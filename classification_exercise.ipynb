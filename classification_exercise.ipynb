{
 "cells": [
  {
   "cell_type": "markdown",
   "id": "89aed8d3",
   "metadata": {},
   "source": [
    "# JEDI - Machine Leaning Workshop\n",
    "\n",
    "## Aprendizado Supervisionado: Classificação"
   ]
  },
  {
   "cell_type": "markdown",
   "id": "290d0114",
   "metadata": {},
   "source": [
    "### Sobre as bibliotecas e os dados"
   ]
  },
  {
   "cell_type": "code",
   "execution_count": null,
   "id": "c6468f65",
   "metadata": {},
   "outputs": [],
   "source": [
    "# Por convenção, as bibliotecas utilizadas devem ser importadas no início do notebook/programa\n",
    "# Aqui importamos apenas algumas delas, as de uso geral.\n",
    "# De modo a contextualizar com nossas tarefas, outras seram carregadas ao longo do programa \n",
    "\n",
    "# https://numpy.org/doc/stable/user/whatisnumpy.html\n",
    "# https://pandas.pydata.org/docs/user_guide/index.html#user-guide\n",
    "# https://matplotlib.org/3.5.3/api/_as_gen/matplotlib.pyplot.html\n",
    "\n",
    "import numpy as np \n",
    "import pandas as pd \n",
    "\n",
    "import matplotlib.pyplot as plt\n",
    "import seaborn as sns"
   ]
  },
  {
   "cell_type": "markdown",
   "id": "f23f8761",
   "metadata": {},
   "source": [
    "Para a implementação do modelo de classificação utilizaremos os dados do da base [*breast cancer*](https://archive.ics.uci.edu/ml/datasets/Breast+Cancer+Wisconsin+(Diagnostic)) disponibilizada através da bilioteca de Machine Learning [Scikit-Learn](https://scikit-learn.org/stable/modules/generated/sklearn.datasets.load_breast_cancer.html).\n",
    "\n",
    "A tabela contém métricas extraídas a partir do processamento de imagens do tecido afetado pelo tumor e o resectivo parecer da análise médica: *malignno* ou *benígno*"
   ]
  },
  {
   "cell_type": "code",
   "execution_count": null,
   "id": "0245fb7d",
   "metadata": {},
   "outputs": [],
   "source": [
    "# Do módulo de datasets importa a função que carrega a base de dados breast cancer\n",
    "from sklearn.datasets import load_breast_cancer\n",
    "\n",
    "# Carrega a base de dados\n",
    "breast_cancer = load_breast_cancer()"
   ]
  },
  {
   "cell_type": "code",
   "execution_count": null,
   "id": "2e2c3cc3",
   "metadata": {},
   "outputs": [],
   "source": [
    "# TAREFA\n",
    "# Transforme o dicionário com os dados de cancêr de mama em um DataFrame\n",
    "df = None\n",
    "df['target'] = None\n",
    "nome_dos_alvos = None"
   ]
  },
  {
   "cell_type": "code",
   "execution_count": null,
   "id": "72c7cd69",
   "metadata": {},
   "outputs": [],
   "source": [
    "# Quais são os tipos das colunas?"
   ]
  },
  {
   "cell_type": "code",
   "execution_count": null,
   "id": "66221c75",
   "metadata": {
    "scrolled": false
   },
   "outputs": [],
   "source": [
    "# Há algum campo vazio no dataset?"
   ]
  },
  {
   "cell_type": "code",
   "execution_count": null,
   "id": "768af759",
   "metadata": {},
   "outputs": [],
   "source": [
    "# Quantos dados temos para cada classe?"
   ]
  },
  {
   "cell_type": "code",
   "execution_count": null,
   "id": "7c0cafd0",
   "metadata": {},
   "outputs": [],
   "source": [
    "# Qual a proporção entre classes?"
   ]
  },
  {
   "cell_type": "markdown",
   "id": "f401bba1",
   "metadata": {},
   "source": [
    "### Sobre a preparação dos dados"
   ]
  },
  {
   "cell_type": "markdown",
   "id": "72c39d2e",
   "metadata": {},
   "source": [
    "O primeiro passo é separar o que são os atributos e o que é o alvo do modelo."
   ]
  },
  {
   "cell_type": "code",
   "execution_count": null,
   "id": "25ac6a80",
   "metadata": {},
   "outputs": [],
   "source": [
    "df.columns"
   ]
  },
  {
   "cell_type": "code",
   "execution_count": null,
   "id": "d68c50c1",
   "metadata": {},
   "outputs": [],
   "source": [
    "X = None # Todas as colunas do dataframe com exceção do target\n",
    "y = None # Apenas a coluna target"
   ]
  },
  {
   "cell_type": "markdown",
   "id": "6825520e",
   "metadata": {},
   "source": [
    "Em seguida temos de separar o que é o conjunto teste e o que é o conjunto treino "
   ]
  },
  {
   "cell_type": "code",
   "execution_count": null,
   "id": "7cb69748",
   "metadata": {},
   "outputs": [],
   "source": [
    "# Do módulo de model_selection da scikit-learn importa o método train_test_split\n",
    "# Dados os atributos (X) e o alvo (y), o método train_test_split os separa em conjuntos treino e teste\n",
    "from sklearn.model_selection import train_test_split\n",
    "\n",
    "X_train, X_test, y_train, y_test = train_test_split(X, y, random_state=0, test_size=0.25)"
   ]
  },
  {
   "cell_type": "markdown",
   "id": "78e18b57",
   "metadata": {},
   "source": [
    "### Sobre o modelo de classificação"
   ]
  },
  {
   "cell_type": "markdown",
   "id": "6fb24074",
   "metadata": {},
   "source": [
    "Para efetuarmos a tarefa de medição utilizaremos o modelo de [Árvore de Decisão](https://scikit-learn.org/stable/modules/generated/sklearn.tree.DecisionTreeClassifier.html) do Scikit-Learn."
   ]
  },
  {
   "cell_type": "code",
   "execution_count": null,
   "id": "03934f46",
   "metadata": {},
   "outputs": [],
   "source": [
    "# Do módulo tree importa o modelo DecisionTreeClassifier\n",
    "from sklearn.tree import DecisionTreeClassifier\n",
    "\n",
    "clf = DecisionTreeClassifier(max_depth=4, min_samples_leaf=8, random_state=0)\n",
    "\n",
    "# Treina o modelo"
   ]
  },
  {
   "cell_type": "code",
   "execution_count": null,
   "id": "844182ab",
   "metadata": {},
   "outputs": [],
   "source": [
    "# Importa a função plot_decision_tree do script py_utilities\n",
    "from py_utilities import plot_decision_tree\n",
    "\n",
    "plot_decision_tree(clf, X.columns, nome_dos_alvos)"
   ]
  },
  {
   "cell_type": "markdown",
   "id": "56e6be0b",
   "metadata": {},
   "source": [
    "### Sobre a avaliação do modelo"
   ]
  },
  {
   "cell_type": "markdown",
   "id": "62369418",
   "metadata": {},
   "source": [
    "A forma mais imediata de avaliação se dá através do método [*score*](https://scikit-learn.org/stable/modules/generated/sklearn.tree.DecisionTreeClassifier.html#sklearn.tree.DecisionTreeClassifier.score) do classificador, que calculará a acurácia média dados os inputs X e y. "
   ]
  },
  {
   "cell_type": "code",
   "execution_count": null,
   "id": "2358db54",
   "metadata": {
    "scrolled": false
   },
   "outputs": [],
   "source": [
    "print(f'Resultados do modelo: {clf.__str__()}\\n')\n",
    "print(f'\\tPerformance nos dados de treino: {clf.score(X_train, y_train):.2f}')\n",
    "print(f'\\tPerformance nos dados de teste : {clf.score(X_test, y_test):.2f}')"
   ]
  },
  {
   "cell_type": "markdown",
   "id": "7da6226d",
   "metadata": {},
   "source": [
    "Outra possibilidade é utilizarmos o [classafication_report](https://scikit-learn.org/stable/modules/generated/sklearn.metrics.classification_report.html), que nos dará uma visão geral da performance do modelo segmentado pelas classes alvo (malígno ou benígno)."
   ]
  },
  {
   "cell_type": "code",
   "execution_count": null,
   "id": "283b55ab",
   "metadata": {
    "scrolled": true
   },
   "outputs": [],
   "source": [
    "# Do módulo métricas importa a função classification_report \n",
    "from sklearn.metrics import classification_report\n",
    "\n",
    "# Queremos comparar o valor predito pelo modelo com o valor verdadeiro\n",
    "y_verdadeiro = None\n",
    "y_predito = None\n",
    "\n",
    "print(f'Relatório do modelo de classificação {clf.__str__()}\\n')\n",
    "print(classification_report(y_verdadeiro, y_predito, target_names=nome_dos_alvos))"
   ]
  },
  {
   "cell_type": "markdown",
   "id": "dd918756",
   "metadata": {},
   "source": [
    "E por fim, uma outra forma de verificarmos o desempenho do nosso classificador é a [matriz de confusão](https://pt.wikipedia.org/wiki/Matriz_de_confus%C3%A3o)."
   ]
  },
  {
   "cell_type": "code",
   "execution_count": null,
   "id": "6e4b6bce",
   "metadata": {},
   "outputs": [],
   "source": [
    "# Do módulo metric importa a função confusion_matrix\n",
    "from sklearn.metrics import confusion_matrix\n",
    "\n",
    "cf_matrix = confusion_matrix(y_verdadeiro, y_predito)\n",
    "\n",
    "# Plot da matriz de confusão\n",
    "# Cógido adaptado de https://medium.com/@dtuk81/confusion-matrix-visualization-fc31e3f30fea\n",
    "\n",
    "group_names = ['Verdadeiro\\nNegativo\\n', 'Falso\\nPositivo\\n', 'Falso\\nNegativo\\n', 'Verdadeiro\\nPositivo\\n']\n",
    "group_counts = ['{0:0.0f}'.format(value) for value in\n",
    "                cf_matrix.flatten()]\n",
    "group_percentages = ['{0:.2%}'.format(value) for value in\n",
    "                     cf_matrix.flatten()/np.sum(cf_matrix)]\n",
    "labels = [f'{v1}\\n{v2}\\n{v3}' for v1, v2, v3 in\n",
    "          zip(group_names,group_counts,group_percentages)]\n",
    "labels = np.asarray(labels).reshape(2,2)\n",
    "\n",
    "sns.heatmap(cf_matrix, annot=labels, fmt='', cmap='Blues');"
   ]
  },
  {
   "cell_type": "markdown",
   "id": "33027119",
   "metadata": {},
   "source": [
    "### Sobre a complexidade do modelo"
   ]
  },
  {
   "cell_type": "code",
   "execution_count": null,
   "id": "024321ec",
   "metadata": {},
   "outputs": [],
   "source": [
    "# Do módulo metrics importa a métrica f1_score\n",
    "from sklearn.metrics import f1_score"
   ]
  },
  {
   "cell_type": "code",
   "execution_count": null,
   "id": "14ab3c5f",
   "metadata": {},
   "outputs": [],
   "source": [
    "max_depth_list = [2, 3, 4, 5, 6, 7, 8, 9]\n",
    "\n",
    "train_results = []\n",
    "test_results = []\n",
    "\n",
    "for depth in max_depth_list:\n",
    "    clf = DecisionTreeClassifier(max_depth=depth, min_samples_leaf=1, random_state=0)\n",
    "    clf.fit(X_train, y_train)\n",
    "    \n",
    "    score_treino = f1_score(y_train, clf.predict(X_train))\n",
    "    score_teste = f1_score(y_test, clf.predict(X_test))\n",
    "    \n",
    "    train_results.append(score_treino)\n",
    "    test_results.append(score_teste)\n",
    "    \n",
    "\n",
    "plt.figure(figsize=(10, 5))\n",
    "\n",
    "plt.plot(max_depth_list, test_results, '-o', label='Teste')\n",
    "plt.plot(max_depth_list, train_results, '-o', label='Treino')\n",
    "\n",
    "plt.xlabel('Profundidade da Árvore')\n",
    "plt.ylabel('F1 Score do Modelo')\n",
    "\n",
    "plt.legend()\n",
    "plt.show()"
   ]
  }
 ],
 "metadata": {
  "kernelspec": {
   "display_name": "Python 3 (ipykernel)",
   "language": "python",
   "name": "python3"
  },
  "language_info": {
   "codemirror_mode": {
    "name": "ipython",
    "version": 3
   },
   "file_extension": ".py",
   "mimetype": "text/x-python",
   "name": "python",
   "nbconvert_exporter": "python",
   "pygments_lexer": "ipython3",
   "version": "3.8.15"
  }
 },
 "nbformat": 4,
 "nbformat_minor": 5
}
